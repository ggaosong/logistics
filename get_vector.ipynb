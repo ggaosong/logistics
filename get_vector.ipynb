{
 "cells": [
  {
   "cell_type": "code",
   "execution_count": 1,
   "id": "6cbb8817-40f0-48db-ab8e-112de3717180",
   "metadata": {
    "tags": []
   },
   "outputs": [],
   "source": [
    "from langchain_community.document_loaders import UnstructuredFileLoader\n",
    "from langchain.text_splitter import RecursiveCharacterTextSplitter\n",
    "from langchain_community.embeddings import HuggingFaceEmbeddings\n",
    "from langchain_community.vectorstores import FAISS  # 向量数据库"
   ]
  },
  {
   "cell_type": "code",
   "execution_count": 3,
   "id": "c6122e16-e48f-44f3-a700-47741bae9c05",
   "metadata": {
    "ExecutionIndicator": {
     "show": true
    },
    "tags": []
   },
   "outputs": [],
   "source": [
    "def main():\n",
    "    # 定义向量模型路径\n",
    "    EMBEDDING_MODEL = '/mnt/workspace/logistics/m3e-base'\n",
    "\n",
    "    # 第一步：加载文档：\n",
    "    loader = UnstructuredFileLoader('/mnt/workspace/logistics/物流信息.txt')\n",
    "    data = loader.load()\n",
    "    # print(f'data-->{data}')\n",
    "    # 第二步：切分文档：\n",
    "    text_split = RecursiveCharacterTextSplitter(chunk_size=128,\n",
    "                                                chunk_overlap=4)\n",
    "    split_data = text_split.split_documents(data)\n",
    "    # print(f'split_data-->{split_data}')\n",
    "\n",
    "    # 第三步：初始化huggingface模型embedding\n",
    "    embeddings = HuggingFaceEmbeddings(model_name=EMBEDDING_MODEL)\n",
    "\n",
    "    # 第四步：将切分后的文档进行向量化，并且存储下来\n",
    "    db = FAISS.from_documents(split_data, embeddings)\n",
    "    db.save_local('/mnt/workspace/logistics/faiss/camp')\n",
    "\n",
    "    return split_data"
   ]
  },
  {
   "cell_type": "code",
   "execution_count": 5,
   "id": "fe70b79d-7ca5-46e0-b994-e4d3ac5f56f8",
   "metadata": {
    "tags": []
   },
   "outputs": [
    {
     "name": "stdout",
     "output_type": "stream",
     "text": [
      "split_data-->[Document(page_content='物流公司：速达物流\\n\\n公司总部：北京市\\n\\n业务范围：国际快递、仓储管理\\n\\n货物追踪：\\n\\n货物编号：ABC123456\\n\\n发货日期：2023\\n\\n01\\n\\n15\\n\\n当前位置：上海分拨中心\\n\\n预计到达日期：2023\\n\\n01\\n\\n20\\n\\n运输方式：\\n\\n运输公司：快运通', metadata={'source': '/mnt/workspace/logistics/物流信息.txt'}), Document(page_content='运输方式：陆运\\n\\n出发地：广州\\n\\n目的地：重庆\\n\\n预计运输时间：3天\\n\\n仓储信息：\\n\\n仓库名称：东方仓储中心\\n\\n仓库位置：深圳市\\n\\n存储货物类型：电子产品\\n\\n存储条件：常温仓储\\n\\n当前库存量：1000件', metadata={'source': '/mnt/workspace/logistics/物流信息.txt'})]\n"
     ]
    }
   ],
   "source": [
    "if __name__ == '__main__':\n",
    "    split_data = main()\n",
    "    print(f'split_data-->{split_data}')"
   ]
  },
  {
   "cell_type": "markdown",
   "id": "01f9710d-1042-42ba-af30-ac9b34676439",
   "metadata": {},
   "source": []
  },
  {
   "cell_type": "code",
   "execution_count": null,
   "id": "a4427d48-8522-4f58-82cd-2333a07db892",
   "metadata": {},
   "outputs": [],
   "source": []
  }
 ],
 "metadata": {
  "kernelspec": {
   "display_name": "Python 3 (ipykernel)",
   "language": "python",
   "name": "python3"
  },
  "language_info": {
   "codemirror_mode": {
    "name": "ipython",
    "version": 3
   },
   "file_extension": ".py",
   "mimetype": "text/x-python",
   "name": "python",
   "nbconvert_exporter": "python",
   "pygments_lexer": "ipython3",
   "version": "3.10.14"
  }
 },
 "nbformat": 4,
 "nbformat_minor": 5
}
