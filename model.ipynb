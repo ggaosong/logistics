{
 "cells": [
  {
   "cell_type": "code",
   "execution_count": 7,
   "id": "8651dcfa-66ff-4d17-bb6d-5b5f13c3ad6b",
   "metadata": {},
   "outputs": [],
   "source": [
    "from langchain.llms.base import LLM\n",
    "from langchain.llms.utils import enforce_stop_tokens\n",
    "from transformers import AutoTokenizer, AutoModel\n",
    "from typing import List, Optional, Any"
   ]
  },
  {
   "cell_type": "code",
   "execution_count": 13,
   "id": "b98063c4-4721-4d61-a7b7-2597f5a41813",
   "metadata": {},
   "outputs": [],
   "source": [
    "# 自定义GLM类\n",
    "class ChatGLM2(LLM):\n",
    "    max_token: int = 4096\n",
    "    temperature: float = 0.8\n",
    "    top_p = 0.9\n",
    "    tokenizer: object = None\n",
    "    model: object = None\n",
    "    history = []\n",
    "\n",
    "    def __init__(self):\n",
    "        super().__init__()\n",
    "\n",
    "    @property\n",
    "    def _llm_type(self) -> str:\n",
    "        return \"custom_chatglm2\"\n",
    "\n",
    "    # 定义load_model的方法\n",
    "    def load_model(self, model_path=None):\n",
    "        # 加载分词器\n",
    "        self.tokenizer = AutoTokenizer.from_pretrained(model_path, trust_remote_code=True)\n",
    "        # 加载模型\n",
    "        self.model = AutoModel.from_pretrained(model_path, trust_remote_code=True).float()\n",
    "        #gpu\n",
    "        #self.model = AutoModel.from_pretrained(model_path, trust_remote_code=True).cuda()\n",
    "\n",
    "    # 定义_call方法：进行模型的推理\n",
    "    def _call(self,prompt: str, stop: Optional[List[str]] = None) -> str:\n",
    "        response, _ = self.model.chat(self.tokenizer,\n",
    "                                        prompt,\n",
    "                                        history=self.history,\n",
    "                                        temperature=self.temperature,\n",
    "                                        top_p=self.top_p)\n",
    "\n",
    "        if stop is not None:\n",
    "            response = enforce_stop_tokens(response, stop)\n",
    "\n",
    "        self.history = self.history + [[None, response]]\n",
    "        return response"
   ]
  },
  {
   "cell_type": "code",
   "execution_count": null,
   "id": "e81cec16-a650-4e84-8b5c-88a28a1f40ec",
   "metadata": {},
   "outputs": [
    {
     "name": "stdout",
     "output_type": "stream",
     "text": [
      "llm--->\u001b[1mChatGLM2\u001b[0m\n",
      "Params: {}\n"
     ]
    }
   ],
   "source": [
    "if __name__ == '__main__':\n",
    "    llm = ChatGLM2()\n",
    "    llm.load_model(model_path='/mnt/workspace/logistics/chatglm2-6b-int4')\n",
    "    print(f'llm--->{llm}')\n",
    "    print(llm(\"1+1=？\"))"
   ]
  },
  {
   "cell_type": "code",
   "execution_count": null,
   "id": "a68692b0-e8bb-47c1-9fb4-d7b58ba5827c",
   "metadata": {},
   "outputs": [],
   "source": []
  }
 ],
 "metadata": {
  "kernelspec": {
   "display_name": "Python 3 (ipykernel)",
   "language": "python",
   "name": "python3"
  },
  "language_info": {
   "codemirror_mode": {
    "name": "ipython",
    "version": 3
   },
   "file_extension": ".py",
   "mimetype": "text/x-python",
   "name": "python",
   "nbconvert_exporter": "python",
   "pygments_lexer": "ipython3",
   "version": "3.10.14"
  }
 },
 "nbformat": 4,
 "nbformat_minor": 5
}
