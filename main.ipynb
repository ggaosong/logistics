{
 "cells": [
  {
   "cell_type": "code",
   "execution_count": null,
   "id": "a16b78b7-1c2e-4498-96fe-ffdd9c632905",
   "metadata": {},
   "outputs": [],
   "source": [
    "from langchain.llms.base import LLM\n",
    "from langchain.llms.utils import enforce_stop_tokens\n",
    "from transformers import AutoTokenizer, AutoModel\n",
    "from typing import List, Optional, Any"
   ]
  },
  {
   "cell_type": "code",
   "execution_count": null,
   "id": "5d0eb1c4-fa1f-4564-8f8a-98aa6ff896ae",
   "metadata": {},
   "outputs": [],
   "source": [
    "from langchain_community.document_loaders import UnstructuredFileLoader\n",
    "from langchain.text_splitter import RecursiveCharacterTextSplitter\n",
    "from langchain_community.embeddings import HuggingFaceEmbeddings\n",
    "from langchain_community.vectorstores import FAISS  # 向量数据库"
   ]
  },
  {
   "cell_type": "code",
   "execution_count": null,
   "id": "8651dcfa-66ff-4d17-bb6d-5b5f13c3ad6b",
   "metadata": {},
   "outputs": [],
   "source": [
    "# coding:utf-8\n",
    "# 导入必备的工具包\n",
    "from langchain.prompts import PromptTemplate\n",
    "#from get_vector import *\n",
    "#from model import ChatGLM2\n",
    "# 加载FAISS向量库\n",
    "EMBEDDING_MODEL = '/mnt/workspace/logistics/m3e-base'\n",
    "embeddings = HuggingFaceEmbeddings(model_name=EMBEDDING_MODEL)\n",
    "db = FAISS.load_local('/mnt/workspace/logistics/faiss/camp', embeddings,allow_dangerous_deserialization=True)"
   ]
  },
  {
   "cell_type": "code",
   "execution_count": null,
   "id": "6c2799c8-e81c-4868-b856-50f0ddd27219",
   "metadata": {},
   "outputs": [],
   "source": [
    "# 自定义GLM类\n",
    "class ChatGLM2(LLM):\n",
    "    max_token: int = 4096\n",
    "    temperature: float = 0.8\n",
    "    top_p = 0.9\n",
    "    tokenizer: object = None\n",
    "    model: object = None\n",
    "    history = []\n",
    "\n",
    "    def __init__(self):\n",
    "        super().__init__()\n",
    "\n",
    "    @property\n",
    "    def _llm_type(self) -> str:\n",
    "        return \"custom_chatglm2\"\n",
    "\n",
    "    # 定义load_model的方法\n",
    "    def load_model(self, model_path=None):\n",
    "        # 加载分词器\n",
    "        self.tokenizer = AutoTokenizer.from_pretrained(model_path, trust_remote_code=True)\n",
    "        # 加载模型\n",
    "        self.model = AutoModel.from_pretrained(model_path, trust_remote_code=True).float()\n",
    "        #gpu\n",
    "        #self.model = AutoModel.from_pretrained(model_path, trust_remote_code=True).cuda()\n",
    "\n",
    "    # 定义_call方法：进行模型的推理\n",
    "    def _call(self,prompt: str, stop: Optional[List[str]] = None) -> str:\n",
    "        response, _ = self.model.chat(self.tokenizer,\n",
    "                                        prompt,\n",
    "                                        history=self.history,\n",
    "                                        temperature=self.temperature,\n",
    "                                        top_p=self.top_p)\n",
    "\n",
    "        if stop is not None:\n",
    "            response = enforce_stop_tokens(response, stop)\n",
    "\n",
    "        self.history = self.history + [[None, response]]\n",
    "        return response"
   ]
  },
  {
   "cell_type": "code",
   "execution_count": null,
   "id": "b98063c4-4721-4d61-a7b7-2597f5a41813",
   "metadata": {},
   "outputs": [],
   "source": [
    "def get_related_content(related_docs):\n",
    "    related_content = []\n",
    "    for doc in related_docs:\n",
    "        related_content.append(doc.page_content.replace('\\n\\n', '\\n'))\n",
    "    return '\\n'.join(related_content)"
   ]
  },
  {
   "cell_type": "code",
   "execution_count": null,
   "id": "fc977a65-b6c4-4e8e-a082-3c044686bf9d",
   "metadata": {},
   "outputs": [],
   "source": [
    "def define_prompt(question):\n",
    "    #question = '我买的商品来自于哪个仓库，从哪出发的，预计什么到达'\n",
    "    docs = db.similarity_search(question, k=1)\n",
    "    # print(f'docs-->{docs}')\n",
    "    related_docs = get_related_content(docs)\n",
    "\n",
    "    # 构建模板\n",
    "    PROMPT_TEMPLATE = \"\"\"\n",
    "           基于以下已知信息，简洁和专业的来回答用户的问题。不允许在答案中添加编造成分。\n",
    "           已知内容:\n",
    "           {context}\n",
    "           问题:\n",
    "           {question}\"\"\"\n",
    "    prompt = PromptTemplate(input_variables=[\"context\", \"question\"],\n",
    "                            template=PROMPT_TEMPLATE)\n",
    "\n",
    "    my_prompt = prompt.format(context=related_docs,\n",
    "                                question=question)\n",
    "    return my_prompt"
   ]
  },
  {
   "cell_type": "code",
   "execution_count": null,
   "id": "3966e54b-bc63-4cfb-8966-87d813c68d20",
   "metadata": {},
   "outputs": [],
   "source": [
    "def qa(question):\n",
    "    llm = ChatGLM2()\n",
    "    llm.load_model('/mnt/workspace/logistics/chatglm2-6b')\n",
    "    my_prompt = define_prompt(question)\n",
    "    result = llm(my_prompt)\n",
    "    return result"
   ]
  },
  {
   "cell_type": "code",
   "execution_count": null,
   "id": "491b6655-c15b-42d6-962d-6f635c58c555",
   "metadata": {},
   "outputs": [],
   "source": [
    "if __name__ == '__main__':\n",
    "    result = qa()\n",
    "    print(f'result-->{result}')"
   ]
  },
  {
   "cell_type": "code",
   "execution_count": null,
   "id": "2c250e0f",
   "metadata": {},
   "outputs": [],
   "source": [
    "result = qa('我买的商品运输方式是什么')\n",
    "print(f'result-->{result}')"
   ]
  },
  {
   "cell_type": "code",
   "execution_count": null,
   "id": "65d93cb1",
   "metadata": {},
   "outputs": [],
   "source": [
    "result = qa('我买的商品物流编号是什么')\n",
    "print(f'result-->{result}')"
   ]
  },
  {
   "cell_type": "code",
   "execution_count": null,
   "id": "3f230ec5",
   "metadata": {},
   "outputs": [],
   "source": [
    "result = qa('我买的产品的物流公司是那个')\n",
    "print(f'result-->{result}')"
   ]
  },
  {
   "cell_type": "code",
   "execution_count": null,
   "id": "9933b264",
   "metadata": {},
   "outputs": [],
   "source": []
  }
 ],
 "metadata": {
  "kernelspec": {
   "display_name": "Python 3 (ipykernel)",
   "language": "python",
   "name": "python3"
  },
  "language_info": {
   "codemirror_mode": {
    "name": "ipython",
    "version": 3
   },
   "file_extension": ".py",
   "mimetype": "text/x-python",
   "name": "python",
   "nbconvert_exporter": "python",
   "pygments_lexer": "ipython3",
   "version": "3.11.4"
  }
 },
 "nbformat": 4,
 "nbformat_minor": 5
}
